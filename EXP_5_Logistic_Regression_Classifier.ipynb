{
  "nbformat": 4,
  "nbformat_minor": 0,
  "metadata": {
    "colab": {
      "name": "EXP_5_Logistic_Regression_Classifier.ipynb",
      "provenance": [],
      "collapsed_sections": [],
      "include_colab_link": true
    },
    "kernelspec": {
      "name": "python3",
      "display_name": "Python 3"
    },
    "language_info": {
      "name": "python"
    },
    "widgets": {
      "application/vnd.jupyter.widget-state+json": {
        "80e5eb7f0687437ebb881e91e1a73e86": {
          "model_module": "@jupyter-widgets/controls",
          "model_name": "HBoxModel",
          "state": {
            "_view_name": "HBoxView",
            "_dom_classes": [],
            "_model_name": "HBoxModel",
            "_view_module": "@jupyter-widgets/controls",
            "_model_module_version": "1.5.0",
            "_view_count": null,
            "_view_module_version": "1.5.0",
            "box_style": "",
            "layout": "IPY_MODEL_357dbe50b66f4ea5a726b21423af0557",
            "_model_module": "@jupyter-widgets/controls",
            "children": [
              "IPY_MODEL_f0aa25127c544bb9aaea45dea6055d8b",
              "IPY_MODEL_06fb9a14b2e047579ca206ff5d6fb00d"
            ]
          }
        },
        "357dbe50b66f4ea5a726b21423af0557": {
          "model_module": "@jupyter-widgets/base",
          "model_name": "LayoutModel",
          "state": {
            "_view_name": "LayoutView",
            "grid_template_rows": null,
            "right": null,
            "justify_content": null,
            "_view_module": "@jupyter-widgets/base",
            "overflow": null,
            "_model_module_version": "1.2.0",
            "_view_count": null,
            "flex_flow": null,
            "width": null,
            "min_width": null,
            "border": null,
            "align_items": null,
            "bottom": null,
            "_model_module": "@jupyter-widgets/base",
            "top": null,
            "grid_column": null,
            "overflow_y": null,
            "overflow_x": null,
            "grid_auto_flow": null,
            "grid_area": null,
            "grid_template_columns": null,
            "flex": null,
            "_model_name": "LayoutModel",
            "justify_items": null,
            "grid_row": null,
            "max_height": null,
            "align_content": null,
            "visibility": null,
            "align_self": null,
            "height": null,
            "min_height": null,
            "padding": null,
            "grid_auto_rows": null,
            "grid_gap": null,
            "max_width": null,
            "order": null,
            "_view_module_version": "1.2.0",
            "grid_template_areas": null,
            "object_position": null,
            "object_fit": null,
            "grid_auto_columns": null,
            "margin": null,
            "display": null,
            "left": null
          }
        },
        "f0aa25127c544bb9aaea45dea6055d8b": {
          "model_module": "@jupyter-widgets/controls",
          "model_name": "FloatProgressModel",
          "state": {
            "_view_name": "ProgressView",
            "style": "IPY_MODEL_a6aa1e55410f40d8a8ec6f34578eca25",
            "_dom_classes": [],
            "description": "Dl Completed...: 100%",
            "_model_name": "FloatProgressModel",
            "bar_style": "success",
            "max": 1,
            "_view_module": "@jupyter-widgets/controls",
            "_model_module_version": "1.5.0",
            "value": 1,
            "_view_count": null,
            "_view_module_version": "1.5.0",
            "orientation": "horizontal",
            "min": 0,
            "description_tooltip": null,
            "_model_module": "@jupyter-widgets/controls",
            "layout": "IPY_MODEL_a0ce07a07c9f464598691e158038f55d"
          }
        },
        "06fb9a14b2e047579ca206ff5d6fb00d": {
          "model_module": "@jupyter-widgets/controls",
          "model_name": "HTMLModel",
          "state": {
            "_view_name": "HTMLView",
            "style": "IPY_MODEL_3036ec05592c4d18afe07487bc312780",
            "_dom_classes": [],
            "description": "",
            "_model_name": "HTMLModel",
            "placeholder": "​",
            "_view_module": "@jupyter-widgets/controls",
            "_model_module_version": "1.5.0",
            "value": " 1/1 [00:00&lt;00:00,  2.32 url/s]",
            "_view_count": null,
            "_view_module_version": "1.5.0",
            "description_tooltip": null,
            "_model_module": "@jupyter-widgets/controls",
            "layout": "IPY_MODEL_b778bc85eb4c460fb4bc17ef0c456aa7"
          }
        },
        "a6aa1e55410f40d8a8ec6f34578eca25": {
          "model_module": "@jupyter-widgets/controls",
          "model_name": "ProgressStyleModel",
          "state": {
            "_view_name": "StyleView",
            "_model_name": "ProgressStyleModel",
            "description_width": "initial",
            "_view_module": "@jupyter-widgets/base",
            "_model_module_version": "1.5.0",
            "_view_count": null,
            "_view_module_version": "1.2.0",
            "bar_color": null,
            "_model_module": "@jupyter-widgets/controls"
          }
        },
        "a0ce07a07c9f464598691e158038f55d": {
          "model_module": "@jupyter-widgets/base",
          "model_name": "LayoutModel",
          "state": {
            "_view_name": "LayoutView",
            "grid_template_rows": null,
            "right": null,
            "justify_content": null,
            "_view_module": "@jupyter-widgets/base",
            "overflow": null,
            "_model_module_version": "1.2.0",
            "_view_count": null,
            "flex_flow": null,
            "width": null,
            "min_width": null,
            "border": null,
            "align_items": null,
            "bottom": null,
            "_model_module": "@jupyter-widgets/base",
            "top": null,
            "grid_column": null,
            "overflow_y": null,
            "overflow_x": null,
            "grid_auto_flow": null,
            "grid_area": null,
            "grid_template_columns": null,
            "flex": null,
            "_model_name": "LayoutModel",
            "justify_items": null,
            "grid_row": null,
            "max_height": null,
            "align_content": null,
            "visibility": null,
            "align_self": null,
            "height": null,
            "min_height": null,
            "padding": null,
            "grid_auto_rows": null,
            "grid_gap": null,
            "max_width": null,
            "order": null,
            "_view_module_version": "1.2.0",
            "grid_template_areas": null,
            "object_position": null,
            "object_fit": null,
            "grid_auto_columns": null,
            "margin": null,
            "display": null,
            "left": null
          }
        },
        "3036ec05592c4d18afe07487bc312780": {
          "model_module": "@jupyter-widgets/controls",
          "model_name": "DescriptionStyleModel",
          "state": {
            "_view_name": "StyleView",
            "_model_name": "DescriptionStyleModel",
            "description_width": "",
            "_view_module": "@jupyter-widgets/base",
            "_model_module_version": "1.5.0",
            "_view_count": null,
            "_view_module_version": "1.2.0",
            "_model_module": "@jupyter-widgets/controls"
          }
        },
        "b778bc85eb4c460fb4bc17ef0c456aa7": {
          "model_module": "@jupyter-widgets/base",
          "model_name": "LayoutModel",
          "state": {
            "_view_name": "LayoutView",
            "grid_template_rows": null,
            "right": null,
            "justify_content": null,
            "_view_module": "@jupyter-widgets/base",
            "overflow": null,
            "_model_module_version": "1.2.0",
            "_view_count": null,
            "flex_flow": null,
            "width": null,
            "min_width": null,
            "border": null,
            "align_items": null,
            "bottom": null,
            "_model_module": "@jupyter-widgets/base",
            "top": null,
            "grid_column": null,
            "overflow_y": null,
            "overflow_x": null,
            "grid_auto_flow": null,
            "grid_area": null,
            "grid_template_columns": null,
            "flex": null,
            "_model_name": "LayoutModel",
            "justify_items": null,
            "grid_row": null,
            "max_height": null,
            "align_content": null,
            "visibility": null,
            "align_self": null,
            "height": null,
            "min_height": null,
            "padding": null,
            "grid_auto_rows": null,
            "grid_gap": null,
            "max_width": null,
            "order": null,
            "_view_module_version": "1.2.0",
            "grid_template_areas": null,
            "object_position": null,
            "object_fit": null,
            "grid_auto_columns": null,
            "margin": null,
            "display": null,
            "left": null
          }
        },
        "8dbd8cf2fd2c4dfcb7d5f1b7a979e816": {
          "model_module": "@jupyter-widgets/controls",
          "model_name": "HBoxModel",
          "state": {
            "_view_name": "HBoxView",
            "_dom_classes": [],
            "_model_name": "HBoxModel",
            "_view_module": "@jupyter-widgets/controls",
            "_model_module_version": "1.5.0",
            "_view_count": null,
            "_view_module_version": "1.5.0",
            "box_style": "",
            "layout": "IPY_MODEL_56bbeed610584abe9371315f97727d79",
            "_model_module": "@jupyter-widgets/controls",
            "children": [
              "IPY_MODEL_e9a768fbfd5e41a0a8e34648c2f85dd1",
              "IPY_MODEL_f83c6df927d3455abaac4ad58c6421c1"
            ]
          }
        },
        "56bbeed610584abe9371315f97727d79": {
          "model_module": "@jupyter-widgets/base",
          "model_name": "LayoutModel",
          "state": {
            "_view_name": "LayoutView",
            "grid_template_rows": null,
            "right": null,
            "justify_content": null,
            "_view_module": "@jupyter-widgets/base",
            "overflow": null,
            "_model_module_version": "1.2.0",
            "_view_count": null,
            "flex_flow": null,
            "width": null,
            "min_width": null,
            "border": null,
            "align_items": null,
            "bottom": null,
            "_model_module": "@jupyter-widgets/base",
            "top": null,
            "grid_column": null,
            "overflow_y": null,
            "overflow_x": null,
            "grid_auto_flow": null,
            "grid_area": null,
            "grid_template_columns": null,
            "flex": null,
            "_model_name": "LayoutModel",
            "justify_items": null,
            "grid_row": null,
            "max_height": null,
            "align_content": null,
            "visibility": null,
            "align_self": null,
            "height": null,
            "min_height": null,
            "padding": null,
            "grid_auto_rows": null,
            "grid_gap": null,
            "max_width": null,
            "order": null,
            "_view_module_version": "1.2.0",
            "grid_template_areas": null,
            "object_position": null,
            "object_fit": null,
            "grid_auto_columns": null,
            "margin": null,
            "display": null,
            "left": null
          }
        },
        "e9a768fbfd5e41a0a8e34648c2f85dd1": {
          "model_module": "@jupyter-widgets/controls",
          "model_name": "FloatProgressModel",
          "state": {
            "_view_name": "ProgressView",
            "style": "IPY_MODEL_e1b72256a65e44d58041a496e01cf952",
            "_dom_classes": [],
            "description": "Dl Size...: ",
            "_model_name": "FloatProgressModel",
            "bar_style": "success",
            "max": 1,
            "_view_module": "@jupyter-widgets/controls",
            "_model_module_version": "1.5.0",
            "value": 0,
            "_view_count": null,
            "_view_module_version": "1.5.0",
            "orientation": "horizontal",
            "min": 0,
            "description_tooltip": null,
            "_model_module": "@jupyter-widgets/controls",
            "layout": "IPY_MODEL_5495efde301044abba299d8ec77459d3"
          }
        },
        "f83c6df927d3455abaac4ad58c6421c1": {
          "model_module": "@jupyter-widgets/controls",
          "model_name": "HTMLModel",
          "state": {
            "_view_name": "HTMLView",
            "style": "IPY_MODEL_e957227884d649b2888c9892c8ba09be",
            "_dom_classes": [],
            "description": "",
            "_model_name": "HTMLModel",
            "placeholder": "​",
            "_view_module": "@jupyter-widgets/controls",
            "_model_module_version": "1.5.0",
            "value": " 0/0 [00:00&lt;?, ? MiB/s]",
            "_view_count": null,
            "_view_module_version": "1.5.0",
            "description_tooltip": null,
            "_model_module": "@jupyter-widgets/controls",
            "layout": "IPY_MODEL_98252105055f4009bd4f0485690e62c2"
          }
        },
        "e1b72256a65e44d58041a496e01cf952": {
          "model_module": "@jupyter-widgets/controls",
          "model_name": "ProgressStyleModel",
          "state": {
            "_view_name": "StyleView",
            "_model_name": "ProgressStyleModel",
            "description_width": "initial",
            "_view_module": "@jupyter-widgets/base",
            "_model_module_version": "1.5.0",
            "_view_count": null,
            "_view_module_version": "1.2.0",
            "bar_color": null,
            "_model_module": "@jupyter-widgets/controls"
          }
        },
        "5495efde301044abba299d8ec77459d3": {
          "model_module": "@jupyter-widgets/base",
          "model_name": "LayoutModel",
          "state": {
            "_view_name": "LayoutView",
            "grid_template_rows": null,
            "right": null,
            "justify_content": null,
            "_view_module": "@jupyter-widgets/base",
            "overflow": null,
            "_model_module_version": "1.2.0",
            "_view_count": null,
            "flex_flow": null,
            "width": null,
            "min_width": null,
            "border": null,
            "align_items": null,
            "bottom": null,
            "_model_module": "@jupyter-widgets/base",
            "top": null,
            "grid_column": null,
            "overflow_y": null,
            "overflow_x": null,
            "grid_auto_flow": null,
            "grid_area": null,
            "grid_template_columns": null,
            "flex": null,
            "_model_name": "LayoutModel",
            "justify_items": null,
            "grid_row": null,
            "max_height": null,
            "align_content": null,
            "visibility": null,
            "align_self": null,
            "height": null,
            "min_height": null,
            "padding": null,
            "grid_auto_rows": null,
            "grid_gap": null,
            "max_width": null,
            "order": null,
            "_view_module_version": "1.2.0",
            "grid_template_areas": null,
            "object_position": null,
            "object_fit": null,
            "grid_auto_columns": null,
            "margin": null,
            "display": null,
            "left": null
          }
        },
        "e957227884d649b2888c9892c8ba09be": {
          "model_module": "@jupyter-widgets/controls",
          "model_name": "DescriptionStyleModel",
          "state": {
            "_view_name": "StyleView",
            "_model_name": "DescriptionStyleModel",
            "description_width": "",
            "_view_module": "@jupyter-widgets/base",
            "_model_module_version": "1.5.0",
            "_view_count": null,
            "_view_module_version": "1.2.0",
            "_model_module": "@jupyter-widgets/controls"
          }
        },
        "98252105055f4009bd4f0485690e62c2": {
          "model_module": "@jupyter-widgets/base",
          "model_name": "LayoutModel",
          "state": {
            "_view_name": "LayoutView",
            "grid_template_rows": null,
            "right": null,
            "justify_content": null,
            "_view_module": "@jupyter-widgets/base",
            "overflow": null,
            "_model_module_version": "1.2.0",
            "_view_count": null,
            "flex_flow": null,
            "width": null,
            "min_width": null,
            "border": null,
            "align_items": null,
            "bottom": null,
            "_model_module": "@jupyter-widgets/base",
            "top": null,
            "grid_column": null,
            "overflow_y": null,
            "overflow_x": null,
            "grid_auto_flow": null,
            "grid_area": null,
            "grid_template_columns": null,
            "flex": null,
            "_model_name": "LayoutModel",
            "justify_items": null,
            "grid_row": null,
            "max_height": null,
            "align_content": null,
            "visibility": null,
            "align_self": null,
            "height": null,
            "min_height": null,
            "padding": null,
            "grid_auto_rows": null,
            "grid_gap": null,
            "max_width": null,
            "order": null,
            "_view_module_version": "1.2.0",
            "grid_template_areas": null,
            "object_position": null,
            "object_fit": null,
            "grid_auto_columns": null,
            "margin": null,
            "display": null,
            "left": null
          }
        },
        "d3d5d45503c2421fb6d797c6deb14358": {
          "model_module": "@jupyter-widgets/controls",
          "model_name": "HBoxModel",
          "state": {
            "_view_name": "HBoxView",
            "_dom_classes": [],
            "_model_name": "HBoxModel",
            "_view_module": "@jupyter-widgets/controls",
            "_model_module_version": "1.5.0",
            "_view_count": null,
            "_view_module_version": "1.5.0",
            "box_style": "",
            "layout": "IPY_MODEL_400fabedff1f4e4db06aede7fc67ede4",
            "_model_module": "@jupyter-widgets/controls",
            "children": [
              "IPY_MODEL_b314022d5a814da697dbdba4daa532c9",
              "IPY_MODEL_386608cf24b147e99c75eefd7b1a17eb"
            ]
          }
        },
        "400fabedff1f4e4db06aede7fc67ede4": {
          "model_module": "@jupyter-widgets/base",
          "model_name": "LayoutModel",
          "state": {
            "_view_name": "LayoutView",
            "grid_template_rows": null,
            "right": null,
            "justify_content": null,
            "_view_module": "@jupyter-widgets/base",
            "overflow": null,
            "_model_module_version": "1.2.0",
            "_view_count": null,
            "flex_flow": null,
            "width": null,
            "min_width": null,
            "border": null,
            "align_items": null,
            "bottom": null,
            "_model_module": "@jupyter-widgets/base",
            "top": null,
            "grid_column": null,
            "overflow_y": null,
            "overflow_x": null,
            "grid_auto_flow": null,
            "grid_area": null,
            "grid_template_columns": null,
            "flex": null,
            "_model_name": "LayoutModel",
            "justify_items": null,
            "grid_row": null,
            "max_height": null,
            "align_content": null,
            "visibility": null,
            "align_self": null,
            "height": null,
            "min_height": null,
            "padding": null,
            "grid_auto_rows": null,
            "grid_gap": null,
            "max_width": null,
            "order": null,
            "_view_module_version": "1.2.0",
            "grid_template_areas": null,
            "object_position": null,
            "object_fit": null,
            "grid_auto_columns": null,
            "margin": null,
            "display": null,
            "left": null
          }
        },
        "b314022d5a814da697dbdba4daa532c9": {
          "model_module": "@jupyter-widgets/controls",
          "model_name": "FloatProgressModel",
          "state": {
            "_view_name": "ProgressView",
            "style": "IPY_MODEL_d7d205870767495e9e26afad45d159c5",
            "_dom_classes": [],
            "description": "",
            "_model_name": "FloatProgressModel",
            "bar_style": "info",
            "max": 1,
            "_view_module": "@jupyter-widgets/controls",
            "_model_module_version": "1.5.0",
            "value": 1,
            "_view_count": null,
            "_view_module_version": "1.5.0",
            "orientation": "horizontal",
            "min": 0,
            "description_tooltip": null,
            "_model_module": "@jupyter-widgets/controls",
            "layout": "IPY_MODEL_88b8a4942a1249d981cab75a0f9430ee"
          }
        },
        "386608cf24b147e99c75eefd7b1a17eb": {
          "model_module": "@jupyter-widgets/controls",
          "model_name": "HTMLModel",
          "state": {
            "_view_name": "HTMLView",
            "style": "IPY_MODEL_09df9c43e6b045118536ed06edce2cd3",
            "_dom_classes": [],
            "description": "",
            "_model_name": "HTMLModel",
            "placeholder": "​",
            "_view_module": "@jupyter-widgets/controls",
            "_model_module_version": "1.5.0",
            "value": " 150/0 [00:00&lt;00:00, 809.93 examples/s]",
            "_view_count": null,
            "_view_module_version": "1.5.0",
            "description_tooltip": null,
            "_model_module": "@jupyter-widgets/controls",
            "layout": "IPY_MODEL_0cf9cc77d6d4465580c136cfc957b38d"
          }
        },
        "d7d205870767495e9e26afad45d159c5": {
          "model_module": "@jupyter-widgets/controls",
          "model_name": "ProgressStyleModel",
          "state": {
            "_view_name": "StyleView",
            "_model_name": "ProgressStyleModel",
            "description_width": "initial",
            "_view_module": "@jupyter-widgets/base",
            "_model_module_version": "1.5.0",
            "_view_count": null,
            "_view_module_version": "1.2.0",
            "bar_color": null,
            "_model_module": "@jupyter-widgets/controls"
          }
        },
        "88b8a4942a1249d981cab75a0f9430ee": {
          "model_module": "@jupyter-widgets/base",
          "model_name": "LayoutModel",
          "state": {
            "_view_name": "LayoutView",
            "grid_template_rows": null,
            "right": null,
            "justify_content": null,
            "_view_module": "@jupyter-widgets/base",
            "overflow": null,
            "_model_module_version": "1.2.0",
            "_view_count": null,
            "flex_flow": null,
            "width": null,
            "min_width": null,
            "border": null,
            "align_items": null,
            "bottom": null,
            "_model_module": "@jupyter-widgets/base",
            "top": null,
            "grid_column": null,
            "overflow_y": null,
            "overflow_x": null,
            "grid_auto_flow": null,
            "grid_area": null,
            "grid_template_columns": null,
            "flex": null,
            "_model_name": "LayoutModel",
            "justify_items": null,
            "grid_row": null,
            "max_height": null,
            "align_content": null,
            "visibility": null,
            "align_self": null,
            "height": null,
            "min_height": null,
            "padding": null,
            "grid_auto_rows": null,
            "grid_gap": null,
            "max_width": null,
            "order": null,
            "_view_module_version": "1.2.0",
            "grid_template_areas": null,
            "object_position": null,
            "object_fit": null,
            "grid_auto_columns": null,
            "margin": null,
            "display": null,
            "left": null
          }
        },
        "09df9c43e6b045118536ed06edce2cd3": {
          "model_module": "@jupyter-widgets/controls",
          "model_name": "DescriptionStyleModel",
          "state": {
            "_view_name": "StyleView",
            "_model_name": "DescriptionStyleModel",
            "description_width": "",
            "_view_module": "@jupyter-widgets/base",
            "_model_module_version": "1.5.0",
            "_view_count": null,
            "_view_module_version": "1.2.0",
            "_model_module": "@jupyter-widgets/controls"
          }
        },
        "0cf9cc77d6d4465580c136cfc957b38d": {
          "model_module": "@jupyter-widgets/base",
          "model_name": "LayoutModel",
          "state": {
            "_view_name": "LayoutView",
            "grid_template_rows": null,
            "right": null,
            "justify_content": null,
            "_view_module": "@jupyter-widgets/base",
            "overflow": null,
            "_model_module_version": "1.2.0",
            "_view_count": null,
            "flex_flow": null,
            "width": null,
            "min_width": null,
            "border": null,
            "align_items": null,
            "bottom": null,
            "_model_module": "@jupyter-widgets/base",
            "top": null,
            "grid_column": null,
            "overflow_y": null,
            "overflow_x": null,
            "grid_auto_flow": null,
            "grid_area": null,
            "grid_template_columns": null,
            "flex": null,
            "_model_name": "LayoutModel",
            "justify_items": null,
            "grid_row": null,
            "max_height": null,
            "align_content": null,
            "visibility": null,
            "align_self": null,
            "height": null,
            "min_height": null,
            "padding": null,
            "grid_auto_rows": null,
            "grid_gap": null,
            "max_width": null,
            "order": null,
            "_view_module_version": "1.2.0",
            "grid_template_areas": null,
            "object_position": null,
            "object_fit": null,
            "grid_auto_columns": null,
            "margin": null,
            "display": null,
            "left": null
          }
        },
        "531113ebe5f2459c8fabe781ec800ee5": {
          "model_module": "@jupyter-widgets/controls",
          "model_name": "HBoxModel",
          "state": {
            "_view_name": "HBoxView",
            "_dom_classes": [],
            "_model_name": "HBoxModel",
            "_view_module": "@jupyter-widgets/controls",
            "_model_module_version": "1.5.0",
            "_view_count": null,
            "_view_module_version": "1.5.0",
            "box_style": "",
            "layout": "IPY_MODEL_01e2416bc2fd4790b05a4aea6e45a496",
            "_model_module": "@jupyter-widgets/controls",
            "children": [
              "IPY_MODEL_f26abd7ddca44b9983cad8f0293c6938",
              "IPY_MODEL_a0e1a0af25404d189c41cd0023cd3461"
            ]
          }
        },
        "01e2416bc2fd4790b05a4aea6e45a496": {
          "model_module": "@jupyter-widgets/base",
          "model_name": "LayoutModel",
          "state": {
            "_view_name": "LayoutView",
            "grid_template_rows": null,
            "right": null,
            "justify_content": null,
            "_view_module": "@jupyter-widgets/base",
            "overflow": null,
            "_model_module_version": "1.2.0",
            "_view_count": null,
            "flex_flow": null,
            "width": null,
            "min_width": null,
            "border": null,
            "align_items": null,
            "bottom": null,
            "_model_module": "@jupyter-widgets/base",
            "top": null,
            "grid_column": null,
            "overflow_y": null,
            "overflow_x": null,
            "grid_auto_flow": null,
            "grid_area": null,
            "grid_template_columns": null,
            "flex": null,
            "_model_name": "LayoutModel",
            "justify_items": null,
            "grid_row": null,
            "max_height": null,
            "align_content": null,
            "visibility": null,
            "align_self": null,
            "height": null,
            "min_height": null,
            "padding": null,
            "grid_auto_rows": null,
            "grid_gap": null,
            "max_width": null,
            "order": null,
            "_view_module_version": "1.2.0",
            "grid_template_areas": null,
            "object_position": null,
            "object_fit": null,
            "grid_auto_columns": null,
            "margin": null,
            "display": null,
            "left": null
          }
        },
        "f26abd7ddca44b9983cad8f0293c6938": {
          "model_module": "@jupyter-widgets/controls",
          "model_name": "FloatProgressModel",
          "state": {
            "_view_name": "ProgressView",
            "style": "IPY_MODEL_7545e127946e45ec92fdc589051cbb1d",
            "_dom_classes": [],
            "description": "  0%",
            "_model_name": "FloatProgressModel",
            "bar_style": "danger",
            "max": 150,
            "_view_module": "@jupyter-widgets/controls",
            "_model_module_version": "1.5.0",
            "value": 0,
            "_view_count": null,
            "_view_module_version": "1.5.0",
            "orientation": "horizontal",
            "min": 0,
            "description_tooltip": null,
            "_model_module": "@jupyter-widgets/controls",
            "layout": "IPY_MODEL_bf503691d2fe46338ce1019df7296239"
          }
        },
        "a0e1a0af25404d189c41cd0023cd3461": {
          "model_module": "@jupyter-widgets/controls",
          "model_name": "HTMLModel",
          "state": {
            "_view_name": "HTMLView",
            "style": "IPY_MODEL_124a744266c340d5a1b1b4ff6a36cbc8",
            "_dom_classes": [],
            "description": "",
            "_model_name": "HTMLModel",
            "placeholder": "​",
            "_view_module": "@jupyter-widgets/controls",
            "_model_module_version": "1.5.0",
            "value": " 0/150 [00:00&lt;?, ? examples/s]",
            "_view_count": null,
            "_view_module_version": "1.5.0",
            "description_tooltip": null,
            "_model_module": "@jupyter-widgets/controls",
            "layout": "IPY_MODEL_8637ee18eb5f49aea022d6a11771f6d1"
          }
        },
        "7545e127946e45ec92fdc589051cbb1d": {
          "model_module": "@jupyter-widgets/controls",
          "model_name": "ProgressStyleModel",
          "state": {
            "_view_name": "StyleView",
            "_model_name": "ProgressStyleModel",
            "description_width": "initial",
            "_view_module": "@jupyter-widgets/base",
            "_model_module_version": "1.5.0",
            "_view_count": null,
            "_view_module_version": "1.2.0",
            "bar_color": null,
            "_model_module": "@jupyter-widgets/controls"
          }
        },
        "bf503691d2fe46338ce1019df7296239": {
          "model_module": "@jupyter-widgets/base",
          "model_name": "LayoutModel",
          "state": {
            "_view_name": "LayoutView",
            "grid_template_rows": null,
            "right": null,
            "justify_content": null,
            "_view_module": "@jupyter-widgets/base",
            "overflow": null,
            "_model_module_version": "1.2.0",
            "_view_count": null,
            "flex_flow": null,
            "width": null,
            "min_width": null,
            "border": null,
            "align_items": null,
            "bottom": null,
            "_model_module": "@jupyter-widgets/base",
            "top": null,
            "grid_column": null,
            "overflow_y": null,
            "overflow_x": null,
            "grid_auto_flow": null,
            "grid_area": null,
            "grid_template_columns": null,
            "flex": null,
            "_model_name": "LayoutModel",
            "justify_items": null,
            "grid_row": null,
            "max_height": null,
            "align_content": null,
            "visibility": null,
            "align_self": null,
            "height": null,
            "min_height": null,
            "padding": null,
            "grid_auto_rows": null,
            "grid_gap": null,
            "max_width": null,
            "order": null,
            "_view_module_version": "1.2.0",
            "grid_template_areas": null,
            "object_position": null,
            "object_fit": null,
            "grid_auto_columns": null,
            "margin": null,
            "display": null,
            "left": null
          }
        },
        "124a744266c340d5a1b1b4ff6a36cbc8": {
          "model_module": "@jupyter-widgets/controls",
          "model_name": "DescriptionStyleModel",
          "state": {
            "_view_name": "StyleView",
            "_model_name": "DescriptionStyleModel",
            "description_width": "",
            "_view_module": "@jupyter-widgets/base",
            "_model_module_version": "1.5.0",
            "_view_count": null,
            "_view_module_version": "1.2.0",
            "_model_module": "@jupyter-widgets/controls"
          }
        },
        "8637ee18eb5f49aea022d6a11771f6d1": {
          "model_module": "@jupyter-widgets/base",
          "model_name": "LayoutModel",
          "state": {
            "_view_name": "LayoutView",
            "grid_template_rows": null,
            "right": null,
            "justify_content": null,
            "_view_module": "@jupyter-widgets/base",
            "overflow": null,
            "_model_module_version": "1.2.0",
            "_view_count": null,
            "flex_flow": null,
            "width": null,
            "min_width": null,
            "border": null,
            "align_items": null,
            "bottom": null,
            "_model_module": "@jupyter-widgets/base",
            "top": null,
            "grid_column": null,
            "overflow_y": null,
            "overflow_x": null,
            "grid_auto_flow": null,
            "grid_area": null,
            "grid_template_columns": null,
            "flex": null,
            "_model_name": "LayoutModel",
            "justify_items": null,
            "grid_row": null,
            "max_height": null,
            "align_content": null,
            "visibility": null,
            "align_self": null,
            "height": null,
            "min_height": null,
            "padding": null,
            "grid_auto_rows": null,
            "grid_gap": null,
            "max_width": null,
            "order": null,
            "_view_module_version": "1.2.0",
            "grid_template_areas": null,
            "object_position": null,
            "object_fit": null,
            "grid_auto_columns": null,
            "margin": null,
            "display": null,
            "left": null
          }
        }
      }
    }
  },
  "cells": [
    {
      "cell_type": "markdown",
      "metadata": {
        "id": "view-in-github",
        "colab_type": "text"
      },
      "source": [
        "<a href=\"https://colab.research.google.com/github/gajulalakshmilikhitha27/DEEP-LEARNING/blob/main/EXP_5_Logistic_Regression_Classifier.ipynb\" target=\"_parent\"><img src=\"https://colab.research.google.com/assets/colab-badge.svg\" alt=\"Open In Colab\"/></a>"
      ]
    },
    {
      "cell_type": "markdown",
      "metadata": {
        "id": "vnA3tRefyg8y"
      },
      "source": [
        "**EXP-5 (Build Logistic Regression Classifier using Neural Network) "
      ]
    },
    {
      "cell_type": "code",
      "metadata": {
        "id": "eZ0tv68kFIVz"
      },
      "source": [
        "import tensorflow_datasets as tfds\n",
        "import tensorflow as tf\n",
        "import numpy as np"
      ],
      "execution_count": null,
      "outputs": []
    },
    {
      "cell_type": "code",
      "metadata": {
        "id": "2HPjn63SGJ3P",
        "colab": {
          "base_uri": "https://localhost:8080/",
          "height": 232,
          "referenced_widgets": [
            "80e5eb7f0687437ebb881e91e1a73e86",
            "357dbe50b66f4ea5a726b21423af0557",
            "f0aa25127c544bb9aaea45dea6055d8b",
            "06fb9a14b2e047579ca206ff5d6fb00d",
            "a6aa1e55410f40d8a8ec6f34578eca25",
            "a0ce07a07c9f464598691e158038f55d",
            "3036ec05592c4d18afe07487bc312780",
            "b778bc85eb4c460fb4bc17ef0c456aa7",
            "8dbd8cf2fd2c4dfcb7d5f1b7a979e816",
            "56bbeed610584abe9371315f97727d79",
            "e9a768fbfd5e41a0a8e34648c2f85dd1",
            "f83c6df927d3455abaac4ad58c6421c1",
            "e1b72256a65e44d58041a496e01cf952",
            "5495efde301044abba299d8ec77459d3",
            "e957227884d649b2888c9892c8ba09be",
            "98252105055f4009bd4f0485690e62c2",
            "d3d5d45503c2421fb6d797c6deb14358",
            "400fabedff1f4e4db06aede7fc67ede4",
            "b314022d5a814da697dbdba4daa532c9",
            "386608cf24b147e99c75eefd7b1a17eb",
            "d7d205870767495e9e26afad45d159c5",
            "88b8a4942a1249d981cab75a0f9430ee",
            "09df9c43e6b045118536ed06edce2cd3",
            "0cf9cc77d6d4465580c136cfc957b38d",
            "531113ebe5f2459c8fabe781ec800ee5",
            "01e2416bc2fd4790b05a4aea6e45a496",
            "f26abd7ddca44b9983cad8f0293c6938",
            "a0e1a0af25404d189c41cd0023cd3461",
            "7545e127946e45ec92fdc589051cbb1d",
            "bf503691d2fe46338ce1019df7296239",
            "124a744266c340d5a1b1b4ff6a36cbc8",
            "8637ee18eb5f49aea022d6a11771f6d1"
          ]
        },
        "outputId": "bfee7730-c926-4392-dae2-35c6351feee5"
      },
      "source": [
        "#importing the data in to X & y \n",
        "#since this is a very small dataset only train set is present \n",
        "X, y  = tfds.as_numpy(tfds.load('iris',split='train',batch_size=-1,as_supervised=True,))"
      ],
      "execution_count": null,
      "outputs": [
        {
          "output_type": "stream",
          "text": [
            "\u001b[1mDownloading and preparing dataset iris/2.0.0 (download: 4.44 KiB, generated: Unknown size, total: 4.44 KiB) to /root/tensorflow_datasets/iris/2.0.0...\u001b[0m\n"
          ],
          "name": "stdout"
        },
        {
          "output_type": "display_data",
          "data": {
            "application/vnd.jupyter.widget-view+json": {
              "model_id": "80e5eb7f0687437ebb881e91e1a73e86",
              "version_minor": 0,
              "version_major": 2
            },
            "text/plain": [
              "HBox(children=(FloatProgress(value=1.0, bar_style='info', description='Dl Completed...', max=1.0, style=Progre…"
            ]
          },
          "metadata": {
            "tags": []
          }
        },
        {
          "output_type": "display_data",
          "data": {
            "application/vnd.jupyter.widget-view+json": {
              "model_id": "8dbd8cf2fd2c4dfcb7d5f1b7a979e816",
              "version_minor": 0,
              "version_major": 2
            },
            "text/plain": [
              "HBox(children=(FloatProgress(value=1.0, bar_style='info', description='Dl Size...', max=1.0, style=ProgressSty…"
            ]
          },
          "metadata": {
            "tags": []
          }
        },
        {
          "output_type": "stream",
          "text": [
            "\n",
            "\n",
            "\n",
            "\n"
          ],
          "name": "stdout"
        },
        {
          "output_type": "display_data",
          "data": {
            "application/vnd.jupyter.widget-view+json": {
              "model_id": "d3d5d45503c2421fb6d797c6deb14358",
              "version_minor": 0,
              "version_major": 2
            },
            "text/plain": [
              "HBox(children=(FloatProgress(value=1.0, bar_style='info', max=1.0), HTML(value='')))"
            ]
          },
          "metadata": {
            "tags": []
          }
        },
        {
          "output_type": "stream",
          "text": [
            "\rShuffling and writing examples to /root/tensorflow_datasets/iris/2.0.0.incomplete1R42YO/iris-train.tfrecord\n"
          ],
          "name": "stdout"
        },
        {
          "output_type": "display_data",
          "data": {
            "application/vnd.jupyter.widget-view+json": {
              "model_id": "531113ebe5f2459c8fabe781ec800ee5",
              "version_minor": 0,
              "version_major": 2
            },
            "text/plain": [
              "HBox(children=(FloatProgress(value=0.0, max=150.0), HTML(value='')))"
            ]
          },
          "metadata": {
            "tags": []
          }
        },
        {
          "output_type": "stream",
          "text": [
            "\u001b[1mDataset iris downloaded and prepared to /root/tensorflow_datasets/iris/2.0.0. Subsequent calls will reuse this data.\u001b[0m\n"
          ],
          "name": "stdout"
        }
      ]
    },
    {
      "cell_type": "code",
      "metadata": {
        "colab": {
          "base_uri": "https://localhost:8080/"
        },
        "id": "R1sKxrdi7SZy",
        "outputId": "906c8dd3-4eb7-4f3b-8222-5c5d16a23bda"
      },
      "source": [
        "#printing the top values of the feature variable\n",
        "X"
      ],
      "execution_count": null,
      "outputs": [
        {
          "output_type": "execute_result",
          "data": {
            "text/plain": [
              "array([[5.1, 3.4, 1.5, 0.2],\n",
              "       [7.7, 3. , 6.1, 2.3],\n",
              "       [5.7, 2.8, 4.5, 1.3],\n",
              "       [6.8, 3.2, 5.9, 2.3],\n",
              "       [5.2, 3.4, 1.4, 0.2],\n",
              "       [5.6, 2.9, 3.6, 1.3],\n",
              "       [5.5, 2.6, 4.4, 1.2],\n",
              "       [5.5, 2.4, 3.7, 1. ],\n",
              "       [4.6, 3.4, 1.4, 0.3],\n",
              "       [7.7, 2.8, 6.7, 2. ],\n",
              "       [7. , 3.2, 4.7, 1.4],\n",
              "       [4.6, 3.2, 1.4, 0.2],\n",
              "       [6.5, 3. , 5.2, 2. ],\n",
              "       [5.5, 4.2, 1.4, 0.2],\n",
              "       [5.4, 3.9, 1.3, 0.4],\n",
              "       [5. , 3.5, 1.3, 0.3],\n",
              "       [5.1, 3.8, 1.5, 0.3],\n",
              "       [4.8, 3. , 1.4, 0.1],\n",
              "       [6.5, 3. , 5.8, 2.2],\n",
              "       [7.6, 3. , 6.6, 2.1],\n",
              "       [6.7, 3.3, 5.7, 2.1],\n",
              "       [7.9, 3.8, 6.4, 2. ],\n",
              "       [6.7, 3. , 5.2, 2.3],\n",
              "       [5.8, 4. , 1.2, 0.2],\n",
              "       [6.3, 2.5, 5. , 1.9],\n",
              "       [5. , 3. , 1.6, 0.2],\n",
              "       [6.9, 3.1, 5.1, 2.3],\n",
              "       [6.1, 3. , 4.6, 1.4],\n",
              "       [5.8, 2.7, 4.1, 1. ],\n",
              "       [5.2, 2.7, 3.9, 1.4],\n",
              "       [6.7, 3. , 5. , 1.7],\n",
              "       [5.7, 2.6, 3.5, 1. ],\n",
              "       [5.8, 2.8, 5.1, 2.4],\n",
              "       [6.5, 3.2, 5.1, 2. ],\n",
              "       [5.7, 3.8, 1.7, 0.3],\n",
              "       [5.4, 3.9, 1.7, 0.4],\n",
              "       [5.2, 3.5, 1.5, 0.2],\n",
              "       [4.9, 3.1, 1.5, 0.1],\n",
              "       [5.6, 2.7, 4.2, 1.3],\n",
              "       [5. , 3.4, 1.6, 0.4],\n",
              "       [5.3, 3.7, 1.5, 0.2],\n",
              "       [6.6, 2.9, 4.6, 1.3],\n",
              "       [5.5, 3.5, 1.3, 0.2],\n",
              "       [6.7, 3.1, 4.4, 1.4],\n",
              "       [4.3, 3. , 1.1, 0.1],\n",
              "       [6.4, 3.1, 5.5, 1.8],\n",
              "       [5. , 3.2, 1.2, 0.2],\n",
              "       [5.7, 4.4, 1.5, 0.4],\n",
              "       [6. , 2.2, 4. , 1. ],\n",
              "       [6.1, 2.6, 5.6, 1.4],\n",
              "       [6.3, 2.3, 4.4, 1.3],\n",
              "       [5.2, 4.1, 1.5, 0.1],\n",
              "       [5. , 3.3, 1.4, 0.2],\n",
              "       [6.8, 2.8, 4.8, 1.4],\n",
              "       [5.4, 3.4, 1.5, 0.4],\n",
              "       [6.1, 2.8, 4.7, 1.2],\n",
              "       [5.6, 3. , 4.1, 1.3],\n",
              "       [6.4, 2.9, 4.3, 1.3],\n",
              "       [6.4, 2.8, 5.6, 2.1],\n",
              "       [5.1, 3.7, 1.5, 0.4],\n",
              "       [4.8, 3. , 1.4, 0.3],\n",
              "       [6. , 2.9, 4.5, 1.5],\n",
              "       [6. , 3. , 4.8, 1.8],\n",
              "       [5. , 3.6, 1.4, 0.2],\n",
              "       [4.7, 3.2, 1.6, 0.2],\n",
              "       [5.4, 3. , 4.5, 1.5],\n",
              "       [6.9, 3.2, 5.7, 2.3],\n",
              "       [5.8, 2.7, 5.1, 1.9],\n",
              "       [6.1, 2.8, 4. , 1.3],\n",
              "       [6.1, 3. , 4.9, 1.8],\n",
              "       [5.8, 2.7, 5.1, 1.9],\n",
              "       [6.3, 2.7, 4.9, 1.8],\n",
              "       [5.4, 3.7, 1.5, 0.2],\n",
              "       [7.1, 3. , 5.9, 2.1],\n",
              "       [6.5, 2.8, 4.6, 1.5],\n",
              "       [4.6, 3.6, 1. , 0.2],\n",
              "       [5.1, 3.5, 1.4, 0.3],\n",
              "       [5.6, 2.5, 3.9, 1.1],\n",
              "       [5.6, 2.8, 4.9, 2. ],\n",
              "       [6.7, 3.1, 4.7, 1.5],\n",
              "       [5.7, 3. , 4.2, 1.2],\n",
              "       [7.3, 2.9, 6.3, 1.8],\n",
              "       [4.5, 2.3, 1.3, 0.3],\n",
              "       [5.8, 2.7, 3.9, 1.2],\n",
              "       [6.3, 2.9, 5.6, 1.8],\n",
              "       [5.1, 3.5, 1.4, 0.2],\n",
              "       [4.9, 2.5, 4.5, 1.7],\n",
              "       [6.9, 3.1, 4.9, 1.5],\n",
              "       [6. , 2.2, 5. , 1.5],\n",
              "       [5.1, 2.5, 3. , 1.1],\n",
              "       [7.2, 3. , 5.8, 1.6],\n",
              "       [6.2, 2.9, 4.3, 1.3],\n",
              "       [4.4, 2.9, 1.4, 0.2],\n",
              "       [5.7, 2.8, 4.1, 1.3],\n",
              "       [5.7, 2.5, 5. , 2. ],\n",
              "       [5.6, 3. , 4.5, 1.5],\n",
              "       [5.1, 3.3, 1.7, 0.5],\n",
              "       [5.5, 2.3, 4. , 1.3],\n",
              "       [6.3, 3.3, 4.7, 1.6],\n",
              "       [6.3, 2.8, 5.1, 1.5],\n",
              "       [6.3, 3.4, 5.6, 2.4],\n",
              "       [6.5, 3. , 5.5, 1.8],\n",
              "       [4.6, 3.1, 1.5, 0.2],\n",
              "       [7.7, 3.8, 6.7, 2.2],\n",
              "       [5. , 2. , 3.5, 1. ],\n",
              "       [7.2, 3.6, 6.1, 2.5],\n",
              "       [6.4, 3.2, 4.5, 1.5],\n",
              "       [4.9, 3. , 1.4, 0.2],\n",
              "       [5.9, 3. , 4.2, 1.5],\n",
              "       [4.8, 3.1, 1.6, 0.2],\n",
              "       [6.3, 3.3, 6. , 2.5],\n",
              "       [6.4, 2.8, 5.6, 2.2],\n",
              "       [4.8, 3.4, 1.9, 0.2],\n",
              "       [6.7, 2.5, 5.8, 1.8],\n",
              "       [5.1, 3.8, 1.9, 0.4],\n",
              "       [5.7, 2.9, 4.2, 1.3],\n",
              "       [6.4, 2.7, 5.3, 1.9],\n",
              "       [5.4, 3.4, 1.7, 0.2],\n",
              "       [6.8, 3. , 5.5, 2.1],\n",
              "       [6.3, 2.5, 4.9, 1.5],\n",
              "       [4.4, 3.2, 1.3, 0.2],\n",
              "       [4.9, 3.1, 1.5, 0.1],\n",
              "       [7.7, 2.6, 6.9, 2.3],\n",
              "       [5. , 3.4, 1.5, 0.2],\n",
              "       [6. , 2.7, 5.1, 1.6],\n",
              "       [6.7, 3.3, 5.7, 2.5],\n",
              "       [5. , 3.5, 1.6, 0.6],\n",
              "       [6.4, 3.2, 5.3, 2.3],\n",
              "       [7.4, 2.8, 6.1, 1.9],\n",
              "       [6.9, 3.1, 5.4, 2.1],\n",
              "       [5.9, 3.2, 4.8, 1.8],\n",
              "       [5.5, 2.5, 4. , 1.3],\n",
              "       [6.2, 2.2, 4.5, 1.5],\n",
              "       [4.4, 3. , 1.3, 0.2],\n",
              "       [5. , 2.3, 3.3, 1. ],\n",
              "       [6.6, 3. , 4.4, 1.4],\n",
              "       [6.1, 2.9, 4.7, 1.4],\n",
              "       [6.2, 2.8, 4.8, 1.8],\n",
              "       [4.8, 3.4, 1.6, 0.2],\n",
              "       [5.9, 3. , 5.1, 1.8],\n",
              "       [6. , 3.4, 4.5, 1.6],\n",
              "       [7.2, 3.2, 6. , 1.8],\n",
              "       [5.8, 2.6, 4. , 1.2],\n",
              "       [4.7, 3.2, 1.3, 0.2],\n",
              "       [6.2, 3.4, 5.4, 2.3],\n",
              "       [5.1, 3.8, 1.6, 0.2],\n",
              "       [4.9, 2.4, 3.3, 1. ],\n",
              "       [6.7, 3.1, 5.6, 2.4],\n",
              "       [5.5, 2.4, 3.8, 1.1],\n",
              "       [4.9, 3.1, 1.5, 0.1]], dtype=float32)"
            ]
          },
          "metadata": {
            "tags": []
          },
          "execution_count": 3
        }
      ]
    },
    {
      "cell_type": "code",
      "metadata": {
        "colab": {
          "base_uri": "https://localhost:8080/"
        },
        "id": "HSaHFAGO7JFa",
        "outputId": "68b1e34a-e7a1-4b5f-8ce1-5bee1a8cb7c8"
      },
      "source": [
        "#finding unique labels in the class variable\n",
        "np.unique(y)"
      ],
      "execution_count": null,
      "outputs": [
        {
          "output_type": "execute_result",
          "data": {
            "text/plain": [
              "array([0, 1, 2])"
            ]
          },
          "metadata": {
            "tags": []
          },
          "execution_count": 4
        }
      ]
    },
    {
      "cell_type": "markdown",
      "metadata": {
        "id": "LVQNc-TZXXlm"
      },
      "source": [
        "# Preprocessing\n",
        "this is a multi class dataseet but we are trying to convert it into a binary class<br>\n",
        "0 (Iris-setosa)<br>\n",
        "1 (Iris-versicolor)<br>\n",
        "2 (Iris-virginica)<br>\n",
        "here we are converting the dataset into <br>\n",
        "0 (Iris-setosa)<br>\n",
        "1 (not a setosa)<br>\n",
        "\n",
        "keeping only sentosa and changing the rest into not a sentosa"
      ]
    },
    {
      "cell_type": "code",
      "metadata": {
        "id": "jHuvVbf2Owgu"
      },
      "source": [
        "# converting multi-class objhects to a binary class\n",
        "def convert_binary(y):\n",
        "  new_y = np.zeros(len(y),dtype=np.int8)\n",
        "  for i in range(len(y)):\n",
        "    if(y[i] != 0):\n",
        "      new_y[i] = 1\n",
        "  return new_y"
      ],
      "execution_count": null,
      "outputs": []
    },
    {
      "cell_type": "code",
      "metadata": {
        "id": "gTFNKItMPIZn",
        "colab": {
          "base_uri": "https://localhost:8080/"
        },
        "outputId": "15fe9411-e1ec-4af5-c3f0-cb2c528427dc"
      },
      "source": [
        "binary_y = convert_binary(y)\n",
        "np.unique(binary_y)"
      ],
      "execution_count": null,
      "outputs": [
        {
          "output_type": "execute_result",
          "data": {
            "text/plain": [
              "array([0, 1], dtype=int8)"
            ]
          },
          "metadata": {
            "tags": []
          },
          "execution_count": 6
        }
      ]
    },
    {
      "cell_type": "code",
      "metadata": {
        "id": "Bhv671clIBzf",
        "colab": {
          "base_uri": "https://localhost:8080/"
        },
        "outputId": "3fff0417-3263-494e-e9c6-d08b9ad70a41"
      },
      "source": [
        "model = tf.keras.models.Sequential()\n",
        "model.add(tf.keras.layers.Dense(1, activation='sigmoid'))\n",
        "model.compile(loss='binary_crossentropy', optimizer='adam', metrics=['accuracy'])\n",
        "\n",
        "layer = model.layers[0]\n",
        "print(\"Initial Weights\")\n",
        "print(\"Layer:\",layer)\n",
        "print(\"layer weights:  \",layer.weights)\n",
        "print(\"layer bias initializer:  \",layer.bias_initializer)"
      ],
      "execution_count": null,
      "outputs": [
        {
          "output_type": "stream",
          "text": [
            "Initial Weights\n",
            "Layer: <tensorflow.python.keras.layers.core.Dense object at 0x7efe188c7310>\n",
            "layer weights:   []\n",
            "layer bias initializer:   <tensorflow.python.keras.initializers.initializers_v2.Zeros object at 0x7efdcb62a890>\n"
          ],
          "name": "stdout"
        }
      ]
    },
    {
      "cell_type": "code",
      "metadata": {
        "colab": {
          "base_uri": "https://localhost:8080/"
        },
        "id": "01BgJDTILeY-",
        "outputId": "10a11e90-f1d3-4b55-f77e-d518d3d0ad96"
      },
      "source": [
        "history = model.fit(X,binary_y, steps_per_epoch=10, epochs=100, verbose=1, validation_split=0.3,)\n"
      ],
      "execution_count": null,
      "outputs": [
        {
          "output_type": "stream",
          "text": [
            "Epoch 1/100\n",
            "10/10 [==============================] - 1s 20ms/step - loss: 1.4743 - accuracy: 0.6571 - val_loss: 1.3235 - val_accuracy: 0.6889\n",
            "Epoch 2/100\n",
            "10/10 [==============================] - 0s 4ms/step - loss: 1.4388 - accuracy: 0.6571 - val_loss: 1.2933 - val_accuracy: 0.6889\n",
            "Epoch 3/100\n",
            "10/10 [==============================] - 0s 3ms/step - loss: 1.4034 - accuracy: 0.6571 - val_loss: 1.2626 - val_accuracy: 0.6889\n",
            "Epoch 4/100\n",
            "10/10 [==============================] - 0s 4ms/step - loss: 1.3683 - accuracy: 0.6571 - val_loss: 1.2319 - val_accuracy: 0.6889\n",
            "Epoch 5/100\n",
            "10/10 [==============================] - 0s 4ms/step - loss: 1.3355 - accuracy: 0.6571 - val_loss: 1.1998 - val_accuracy: 0.6889\n",
            "Epoch 6/100\n",
            "10/10 [==============================] - 0s 6ms/step - loss: 1.2990 - accuracy: 0.6571 - val_loss: 1.1702 - val_accuracy: 0.6889\n",
            "Epoch 7/100\n",
            "10/10 [==============================] - 0s 4ms/step - loss: 1.2651 - accuracy: 0.6571 - val_loss: 1.1404 - val_accuracy: 0.6889\n",
            "Epoch 8/100\n",
            "10/10 [==============================] - 0s 4ms/step - loss: 1.2306 - accuracy: 0.6571 - val_loss: 1.1097 - val_accuracy: 0.6889\n",
            "Epoch 9/100\n",
            "10/10 [==============================] - 0s 3ms/step - loss: 1.1970 - accuracy: 0.6571 - val_loss: 1.0794 - val_accuracy: 0.6889\n",
            "Epoch 10/100\n",
            "10/10 [==============================] - 0s 4ms/step - loss: 1.1660 - accuracy: 0.6571 - val_loss: 1.0482 - val_accuracy: 0.6889\n",
            "Epoch 11/100\n",
            "10/10 [==============================] - 0s 5ms/step - loss: 1.1295 - accuracy: 0.6571 - val_loss: 1.0202 - val_accuracy: 0.6889\n",
            "Epoch 12/100\n",
            "10/10 [==============================] - 0s 4ms/step - loss: 1.0988 - accuracy: 0.6571 - val_loss: 0.9900 - val_accuracy: 0.6889\n",
            "Epoch 13/100\n",
            "10/10 [==============================] - 0s 4ms/step - loss: 1.0654 - accuracy: 0.6571 - val_loss: 0.9607 - val_accuracy: 0.6889\n",
            "Epoch 14/100\n",
            "10/10 [==============================] - 0s 4ms/step - loss: 1.0319 - accuracy: 0.6571 - val_loss: 0.9329 - val_accuracy: 0.6889\n",
            "Epoch 15/100\n",
            "10/10 [==============================] - 0s 3ms/step - loss: 0.9996 - accuracy: 0.6571 - val_loss: 0.9046 - val_accuracy: 0.6889\n",
            "Epoch 16/100\n",
            "10/10 [==============================] - 0s 5ms/step - loss: 0.9682 - accuracy: 0.6571 - val_loss: 0.8746 - val_accuracy: 0.6889\n",
            "Epoch 17/100\n",
            "10/10 [==============================] - 0s 4ms/step - loss: 0.9341 - accuracy: 0.6571 - val_loss: 0.8465 - val_accuracy: 0.6889\n",
            "Epoch 18/100\n",
            "10/10 [==============================] - 0s 4ms/step - loss: 0.9023 - accuracy: 0.6571 - val_loss: 0.8175 - val_accuracy: 0.6889\n",
            "Epoch 19/100\n",
            "10/10 [==============================] - 0s 3ms/step - loss: 0.8704 - accuracy: 0.6571 - val_loss: 0.7895 - val_accuracy: 0.6889\n",
            "Epoch 20/100\n",
            "10/10 [==============================] - 0s 3ms/step - loss: 0.8401 - accuracy: 0.6571 - val_loss: 0.7616 - val_accuracy: 0.6889\n",
            "Epoch 21/100\n",
            "10/10 [==============================] - 0s 3ms/step - loss: 0.8103 - accuracy: 0.6571 - val_loss: 0.7340 - val_accuracy: 0.6889\n",
            "Epoch 22/100\n",
            "10/10 [==============================] - 0s 4ms/step - loss: 0.7789 - accuracy: 0.6571 - val_loss: 0.7086 - val_accuracy: 0.6889\n",
            "Epoch 23/100\n",
            "10/10 [==============================] - 0s 3ms/step - loss: 0.7500 - accuracy: 0.6571 - val_loss: 0.6837 - val_accuracy: 0.6889\n",
            "Epoch 24/100\n",
            "10/10 [==============================] - 0s 4ms/step - loss: 0.7239 - accuracy: 0.6571 - val_loss: 0.6575 - val_accuracy: 0.6889\n",
            "Epoch 25/100\n",
            "10/10 [==============================] - 0s 4ms/step - loss: 0.6946 - accuracy: 0.6571 - val_loss: 0.6336 - val_accuracy: 0.6889\n",
            "Epoch 26/100\n",
            "10/10 [==============================] - 0s 4ms/step - loss: 0.6671 - accuracy: 0.6571 - val_loss: 0.6102 - val_accuracy: 0.6889\n",
            "Epoch 27/100\n",
            "10/10 [==============================] - 0s 4ms/step - loss: 0.6410 - accuracy: 0.6571 - val_loss: 0.5874 - val_accuracy: 0.6889\n",
            "Epoch 28/100\n",
            "10/10 [==============================] - 0s 4ms/step - loss: 0.6165 - accuracy: 0.6571 - val_loss: 0.5644 - val_accuracy: 0.6889\n",
            "Epoch 29/100\n",
            "10/10 [==============================] - 0s 4ms/step - loss: 0.5909 - accuracy: 0.6571 - val_loss: 0.5425 - val_accuracy: 0.6889\n",
            "Epoch 30/100\n",
            "10/10 [==============================] - 0s 3ms/step - loss: 0.5663 - accuracy: 0.6571 - val_loss: 0.5215 - val_accuracy: 0.6889\n",
            "Epoch 31/100\n",
            "10/10 [==============================] - 0s 4ms/step - loss: 0.5435 - accuracy: 0.6571 - val_loss: 0.4998 - val_accuracy: 0.6889\n",
            "Epoch 32/100\n",
            "10/10 [==============================] - 0s 4ms/step - loss: 0.5200 - accuracy: 0.6571 - val_loss: 0.4791 - val_accuracy: 0.6889\n",
            "Epoch 33/100\n",
            "10/10 [==============================] - 0s 4ms/step - loss: 0.4978 - accuracy: 0.6571 - val_loss: 0.4593 - val_accuracy: 0.6889\n",
            "Epoch 34/100\n",
            "10/10 [==============================] - 0s 6ms/step - loss: 0.4760 - accuracy: 0.6571 - val_loss: 0.4410 - val_accuracy: 0.6889\n",
            "Epoch 35/100\n",
            "10/10 [==============================] - 0s 4ms/step - loss: 0.4566 - accuracy: 0.6571 - val_loss: 0.4233 - val_accuracy: 0.6889\n",
            "Epoch 36/100\n",
            "10/10 [==============================] - 0s 4ms/step - loss: 0.4366 - accuracy: 0.6571 - val_loss: 0.4077 - val_accuracy: 0.6889\n",
            "Epoch 37/100\n",
            "10/10 [==============================] - 0s 4ms/step - loss: 0.4200 - accuracy: 0.6571 - val_loss: 0.3914 - val_accuracy: 0.6889\n",
            "Epoch 38/100\n",
            "10/10 [==============================] - 0s 5ms/step - loss: 0.4020 - accuracy: 0.6571 - val_loss: 0.3768 - val_accuracy: 0.6889\n",
            "Epoch 39/100\n",
            "10/10 [==============================] - 0s 3ms/step - loss: 0.3871 - accuracy: 0.6571 - val_loss: 0.3626 - val_accuracy: 0.6889\n",
            "Epoch 40/100\n",
            "10/10 [==============================] - 0s 3ms/step - loss: 0.3726 - accuracy: 0.6667 - val_loss: 0.3494 - val_accuracy: 0.6889\n",
            "Epoch 41/100\n",
            "10/10 [==============================] - 0s 3ms/step - loss: 0.3579 - accuracy: 0.6667 - val_loss: 0.3371 - val_accuracy: 0.6889\n",
            "Epoch 42/100\n",
            "10/10 [==============================] - 0s 4ms/step - loss: 0.3446 - accuracy: 0.6667 - val_loss: 0.3262 - val_accuracy: 0.6889\n",
            "Epoch 43/100\n",
            "10/10 [==============================] - 0s 6ms/step - loss: 0.3326 - accuracy: 0.6762 - val_loss: 0.3157 - val_accuracy: 0.6889\n",
            "Epoch 44/100\n",
            "10/10 [==============================] - 0s 4ms/step - loss: 0.3222 - accuracy: 0.6952 - val_loss: 0.3055 - val_accuracy: 0.6889\n",
            "Epoch 45/100\n",
            "10/10 [==============================] - 0s 4ms/step - loss: 0.3114 - accuracy: 0.7048 - val_loss: 0.2965 - val_accuracy: 0.6889\n",
            "Epoch 46/100\n",
            "10/10 [==============================] - 0s 3ms/step - loss: 0.3013 - accuracy: 0.7429 - val_loss: 0.2887 - val_accuracy: 0.7111\n",
            "Epoch 47/100\n",
            "10/10 [==============================] - 0s 4ms/step - loss: 0.2929 - accuracy: 0.7619 - val_loss: 0.2807 - val_accuracy: 0.7333\n",
            "Epoch 48/100\n",
            "10/10 [==============================] - 0s 3ms/step - loss: 0.2851 - accuracy: 0.7714 - val_loss: 0.2735 - val_accuracy: 0.7333\n",
            "Epoch 49/100\n",
            "10/10 [==============================] - 0s 3ms/step - loss: 0.2769 - accuracy: 0.8000 - val_loss: 0.2675 - val_accuracy: 0.7778\n",
            "Epoch 50/100\n",
            "10/10 [==============================] - 0s 5ms/step - loss: 0.2705 - accuracy: 0.8286 - val_loss: 0.2614 - val_accuracy: 0.8444\n",
            "Epoch 51/100\n",
            "10/10 [==============================] - 0s 4ms/step - loss: 0.2640 - accuracy: 0.8476 - val_loss: 0.2559 - val_accuracy: 0.8667\n",
            "Epoch 52/100\n",
            "10/10 [==============================] - 0s 4ms/step - loss: 0.2588 - accuracy: 0.8667 - val_loss: 0.2505 - val_accuracy: 0.8667\n",
            "Epoch 53/100\n",
            "10/10 [==============================] - 0s 4ms/step - loss: 0.2526 - accuracy: 0.9238 - val_loss: 0.2463 - val_accuracy: 0.8667\n",
            "Epoch 54/100\n",
            "10/10 [==============================] - 0s 4ms/step - loss: 0.2482 - accuracy: 0.9333 - val_loss: 0.2417 - val_accuracy: 0.8889\n",
            "Epoch 55/100\n",
            "10/10 [==============================] - 0s 4ms/step - loss: 0.2432 - accuracy: 0.9429 - val_loss: 0.2378 - val_accuracy: 0.8889\n",
            "Epoch 56/100\n",
            "10/10 [==============================] - 0s 4ms/step - loss: 0.2390 - accuracy: 0.9714 - val_loss: 0.2344 - val_accuracy: 0.9556\n",
            "Epoch 57/100\n",
            "10/10 [==============================] - 0s 4ms/step - loss: 0.2353 - accuracy: 0.9810 - val_loss: 0.2310 - val_accuracy: 0.9778\n",
            "Epoch 58/100\n",
            "10/10 [==============================] - 0s 3ms/step - loss: 0.2320 - accuracy: 0.9810 - val_loss: 0.2277 - val_accuracy: 1.0000\n",
            "Epoch 59/100\n",
            "10/10 [==============================] - 0s 4ms/step - loss: 0.2283 - accuracy: 0.9810 - val_loss: 0.2249 - val_accuracy: 1.0000\n",
            "Epoch 60/100\n",
            "10/10 [==============================] - 0s 4ms/step - loss: 0.2257 - accuracy: 0.9810 - val_loss: 0.2218 - val_accuracy: 1.0000\n",
            "Epoch 61/100\n",
            "10/10 [==============================] - 0s 4ms/step - loss: 0.2223 - accuracy: 0.9810 - val_loss: 0.2193 - val_accuracy: 1.0000\n",
            "Epoch 62/100\n",
            "10/10 [==============================] - 0s 4ms/step - loss: 0.2199 - accuracy: 0.9810 - val_loss: 0.2166 - val_accuracy: 1.0000\n",
            "Epoch 63/100\n",
            "10/10 [==============================] - 0s 3ms/step - loss: 0.2170 - accuracy: 0.9905 - val_loss: 0.2144 - val_accuracy: 1.0000\n",
            "Epoch 64/100\n",
            "10/10 [==============================] - 0s 4ms/step - loss: 0.2146 - accuracy: 0.9905 - val_loss: 0.2121 - val_accuracy: 1.0000\n",
            "Epoch 65/100\n",
            "10/10 [==============================] - 0s 3ms/step - loss: 0.2121 - accuracy: 0.9905 - val_loss: 0.2098 - val_accuracy: 1.0000\n",
            "Epoch 66/100\n",
            "10/10 [==============================] - 0s 4ms/step - loss: 0.2097 - accuracy: 0.9905 - val_loss: 0.2077 - val_accuracy: 1.0000\n",
            "Epoch 67/100\n",
            "10/10 [==============================] - 0s 4ms/step - loss: 0.2075 - accuracy: 0.9905 - val_loss: 0.2056 - val_accuracy: 1.0000\n",
            "Epoch 68/100\n",
            "10/10 [==============================] - 0s 3ms/step - loss: 0.2053 - accuracy: 0.9905 - val_loss: 0.2036 - val_accuracy: 1.0000\n",
            "Epoch 69/100\n",
            "10/10 [==============================] - 0s 4ms/step - loss: 0.2032 - accuracy: 0.9905 - val_loss: 0.2016 - val_accuracy: 1.0000\n",
            "Epoch 70/100\n",
            "10/10 [==============================] - 0s 4ms/step - loss: 0.2012 - accuracy: 0.9905 - val_loss: 0.1995 - val_accuracy: 1.0000\n",
            "Epoch 71/100\n",
            "10/10 [==============================] - 0s 4ms/step - loss: 0.1990 - accuracy: 0.9905 - val_loss: 0.1976 - val_accuracy: 1.0000\n",
            "Epoch 72/100\n",
            "10/10 [==============================] - 0s 4ms/step - loss: 0.1970 - accuracy: 0.9905 - val_loss: 0.1957 - val_accuracy: 1.0000\n",
            "Epoch 73/100\n",
            "10/10 [==============================] - 0s 4ms/step - loss: 0.1953 - accuracy: 0.9905 - val_loss: 0.1937 - val_accuracy: 1.0000\n",
            "Epoch 74/100\n",
            "10/10 [==============================] - 0s 3ms/step - loss: 0.1931 - accuracy: 0.9905 - val_loss: 0.1919 - val_accuracy: 1.0000\n",
            "Epoch 75/100\n",
            "10/10 [==============================] - 0s 4ms/step - loss: 0.1913 - accuracy: 0.9905 - val_loss: 0.1901 - val_accuracy: 1.0000\n",
            "Epoch 76/100\n",
            "10/10 [==============================] - 0s 4ms/step - loss: 0.1894 - accuracy: 1.0000 - val_loss: 0.1884 - val_accuracy: 1.0000\n",
            "Epoch 77/100\n",
            "10/10 [==============================] - 0s 5ms/step - loss: 0.1877 - accuracy: 1.0000 - val_loss: 0.1866 - val_accuracy: 1.0000\n",
            "Epoch 78/100\n",
            "10/10 [==============================] - 0s 4ms/step - loss: 0.1858 - accuracy: 1.0000 - val_loss: 0.1848 - val_accuracy: 1.0000\n",
            "Epoch 79/100\n",
            "10/10 [==============================] - 0s 4ms/step - loss: 0.1840 - accuracy: 1.0000 - val_loss: 0.1831 - val_accuracy: 1.0000\n",
            "Epoch 80/100\n",
            "10/10 [==============================] - 0s 4ms/step - loss: 0.1823 - accuracy: 1.0000 - val_loss: 0.1814 - val_accuracy: 1.0000\n",
            "Epoch 81/100\n",
            "10/10 [==============================] - 0s 4ms/step - loss: 0.1805 - accuracy: 1.0000 - val_loss: 0.1798 - val_accuracy: 1.0000\n",
            "Epoch 82/100\n",
            "10/10 [==============================] - 0s 3ms/step - loss: 0.1789 - accuracy: 1.0000 - val_loss: 0.1781 - val_accuracy: 1.0000\n",
            "Epoch 83/100\n",
            "10/10 [==============================] - 0s 4ms/step - loss: 0.1773 - accuracy: 1.0000 - val_loss: 0.1765 - val_accuracy: 1.0000\n",
            "Epoch 84/100\n",
            "10/10 [==============================] - 0s 3ms/step - loss: 0.1755 - accuracy: 1.0000 - val_loss: 0.1749 - val_accuracy: 1.0000\n",
            "Epoch 85/100\n",
            "10/10 [==============================] - 0s 4ms/step - loss: 0.1739 - accuracy: 1.0000 - val_loss: 0.1733 - val_accuracy: 1.0000\n",
            "Epoch 86/100\n",
            "10/10 [==============================] - 0s 5ms/step - loss: 0.1723 - accuracy: 1.0000 - val_loss: 0.1717 - val_accuracy: 1.0000\n",
            "Epoch 87/100\n",
            "10/10 [==============================] - 0s 6ms/step - loss: 0.1707 - accuracy: 1.0000 - val_loss: 0.1701 - val_accuracy: 1.0000\n",
            "Epoch 88/100\n",
            "10/10 [==============================] - 0s 4ms/step - loss: 0.1691 - accuracy: 1.0000 - val_loss: 0.1686 - val_accuracy: 1.0000\n",
            "Epoch 89/100\n",
            "10/10 [==============================] - 0s 4ms/step - loss: 0.1676 - accuracy: 1.0000 - val_loss: 0.1671 - val_accuracy: 1.0000\n",
            "Epoch 90/100\n",
            "10/10 [==============================] - 0s 4ms/step - loss: 0.1661 - accuracy: 1.0000 - val_loss: 0.1656 - val_accuracy: 1.0000\n",
            "Epoch 91/100\n",
            "10/10 [==============================] - 0s 5ms/step - loss: 0.1645 - accuracy: 1.0000 - val_loss: 0.1641 - val_accuracy: 1.0000\n",
            "Epoch 92/100\n",
            "10/10 [==============================] - 0s 3ms/step - loss: 0.1632 - accuracy: 1.0000 - val_loss: 0.1626 - val_accuracy: 1.0000\n",
            "Epoch 93/100\n",
            "10/10 [==============================] - 0s 5ms/step - loss: 0.1616 - accuracy: 1.0000 - val_loss: 0.1612 - val_accuracy: 1.0000\n",
            "Epoch 94/100\n",
            "10/10 [==============================] - 0s 4ms/step - loss: 0.1601 - accuracy: 1.0000 - val_loss: 0.1598 - val_accuracy: 1.0000\n",
            "Epoch 95/100\n",
            "10/10 [==============================] - 0s 4ms/step - loss: 0.1587 - accuracy: 1.0000 - val_loss: 0.1585 - val_accuracy: 1.0000\n",
            "Epoch 96/100\n",
            "10/10 [==============================] - 0s 4ms/step - loss: 0.1573 - accuracy: 1.0000 - val_loss: 0.1571 - val_accuracy: 1.0000\n",
            "Epoch 97/100\n",
            "10/10 [==============================] - 0s 4ms/step - loss: 0.1560 - accuracy: 1.0000 - val_loss: 0.1557 - val_accuracy: 1.0000\n",
            "Epoch 98/100\n",
            "10/10 [==============================] - 0s 3ms/step - loss: 0.1546 - accuracy: 1.0000 - val_loss: 0.1543 - val_accuracy: 1.0000\n",
            "Epoch 99/100\n",
            "10/10 [==============================] - 0s 3ms/step - loss: 0.1532 - accuracy: 1.0000 - val_loss: 0.1530 - val_accuracy: 1.0000\n",
            "Epoch 100/100\n",
            "10/10 [==============================] - 0s 4ms/step - loss: 0.1519 - accuracy: 1.0000 - val_loss: 0.1517 - val_accuracy: 1.0000\n"
          ],
          "name": "stdout"
        }
      ]
    },
    {
      "cell_type": "code",
      "metadata": {
        "colab": {
          "base_uri": "https://localhost:8080/"
        },
        "id": "pOztT5Ve64HD",
        "outputId": "56905532-eb27-4187-9f8f-f6c56837b431"
      },
      "source": [
        "score, accuracy = model.evaluate(X[1:75], binary_y[1:75], batch_size=16, verbose=0)\n",
        "print(\"NN-Score = {:.2f}\".format(score))\n",
        "print(\"NN-Accuracy = {:.2f}\".format(accuracy))"
      ],
      "execution_count": null,
      "outputs": [
        {
          "output_type": "stream",
          "text": [
            "NN-Score = 0.15\n",
            "NN-Accuracy = 1.00\n"
          ],
          "name": "stdout"
        }
      ]
    },
    {
      "cell_type": "code",
      "metadata": {
        "colab": {
          "base_uri": "https://localhost:8080/",
          "height": 201
        },
        "id": "gisKs3Be_Bvy",
        "outputId": "c31f4402-bb94-415c-81d7-2a770d15c974"
      },
      "source": [
        "#plotting the model of logistic regression here is is in a simple preceptron style\n",
        "tf.keras.utils.plot_model(model, show_shapes=True)"
      ],
      "execution_count": null,
      "outputs": [
        {
          "output_type": "execute_result",
          "data": {
            "image/png": "[encoded data removed]",
            "text/plain": [
              "<IPython.core.display.Image object>"
            ]
          },
          "metadata": {
            "tags": []
          },
          "execution_count": 10
        }
      ]
    },
    {
      "cell_type": "code",
      "metadata": {
        "id": "spfxbO_Y_e_q"
      },
      "source": [
        "#Confusion matrix\n",
        "y_pred = model.predict(X)"
      ],
      "execution_count": null,
      "outputs": []
    },
    {
      "cell_type": "code",
      "metadata": {
        "id": "nl0hEJaSHHrL",
        "colab": {
          "base_uri": "https://localhost:8080/"
        },
        "outputId": "8856a294-35b6-42f6-d1a4-94571fd44e74"
      },
      "source": [
        "tf.math.confusion_matrix(binary_y, y_pred )"
      ],
      "execution_count": null,
      "outputs": [
        {
          "output_type": "execute_result",
          "data": {
            "text/plain": [
              "<tf.Tensor: shape=(2, 2), dtype=int32, numpy=\n",
              "array([[ 50,   0],\n",
              "       [100,   0]], dtype=int32)>"
            ]
          },
          "metadata": {
            "tags": []
          },
          "execution_count": 12
        }
      ]
    },
    {
      "cell_type": "code",
      "metadata": {
        "colab": {
          "base_uri": "https://localhost:8080/",
          "height": 518
        },
        "id": "AqVL_zNHUcyY",
        "outputId": "d30a58b5-9b81-4dce-eb53-0207ce676b98"
      },
      "source": [
        "#Plotting metric curves\n",
        "import matplotlib.pyplot as plt\n",
        "\n",
        "\n",
        "\n",
        "plt.figure(figsize=(16, 8))\n",
        "\n",
        "plt.subplot(1, 2, 1)\n",
        "plt.plot(history.history['accuracy'])\n",
        "plt.plot(history.history['val_accuracy'])\n",
        "plt.xlabel(\"Epochs\")\n",
        "plt.ylabel('accuracy')\n",
        "plt.legend(['accuracy', 'val_accuracy'])\n",
        "plt.ylim(None, 1)\n",
        "\n",
        "plt.subplot(1, 2, 2)\n",
        "plt.plot(history.history['loss'])\n",
        "plt.plot(history.history['val_loss'])\n",
        "plt.xlabel(\"Epochs\")\n",
        "plt.ylabel('loss')\n",
        "plt.legend(['loss', 'val_loss'])\n",
        "plt.ylim(0, None)"
      ],
      "execution_count": null,
      "outputs": [
        {
          "output_type": "execute_result",
          "data": {
            "text/plain": [
              "(0.0, 1.5404313705861568)"
            ]
          },
          "metadata": {
            "tags": []
          },
          "execution_count": 13
        },
        {
          "output_type": "display_data",
          "data": {
            "image/png": "[encoded data removed]",
            "text/plain": [
              "<Figure size 1152x576 with 2 Axes>"
            ]
          },
          "metadata": {
            "tags": [],
            "needs_background": "light"
          }
        }
      ]
    },
    {
      "cell_type": "code",
      "metadata": {
        "id": "wvwI4CpUVR0u",
        "colab": {
          "base_uri": "https://localhost:8080/"
        },
        "outputId": "8065aff3-fbb6-4d24-b2ec-a41165db3200"
      },
      "source": [
        "layer = model.layers[0]\n",
        "print(\"Layer:\",layer)\n",
        "print(\"layer weights:  \",layer.weights)\n",
        "print(\"layer bias:  \",layer.bias.numpy())\n",
        "print(\"layer bias initializer:  \",layer.bias_initializer)"
      ],
      "execution_count": null,
      "outputs": [
        {
          "output_type": "stream",
          "text": [
            "Layer: <tensorflow.python.keras.layers.core.Dense object at 0x7efdcf1f65d0>\n",
            "layer weights:   [<tf.Variable 'dense/kernel:0' shape=(4, 1) dtype=float32, numpy=\n",
            "array([[ 0.33996332],\n",
            "       [-0.9799553 ],\n",
            "       [ 0.7109318 ],\n",
            "       [ 0.31656018]], dtype=float32)>, <tf.Variable 'dense/bias:0' shape=(1,) dtype=float32, numpy=array([-0.53373915], dtype=float32)>]\n",
            "layer bias:   [-0.53373915]\n",
            "layer bias initializer:   <tensorflow.python.keras.initializers.initializers_v2.Zeros object at 0x7efdd45607d0>\n"
          ],
          "name": "stdout"
        }
      ]
    }
  ]
}