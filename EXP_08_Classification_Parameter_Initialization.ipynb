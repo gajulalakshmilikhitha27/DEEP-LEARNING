{
  "nbformat": 4,
  "nbformat_minor": 0,
  "metadata": {
    "colab": {
      "name": "EXP_08_Classification_Parameter_Initialization.ipynb",
      "provenance": [],
      "collapsed_sections": [],
      "include_colab_link": true
    },
    "kernelspec": {
      "name": "python3",
      "display_name": "Python 3"
    },
    "language_info": {
      "name": "python"
    }
  },
  "cells": [
    {
      "cell_type": "markdown",
      "metadata": {
        "id": "view-in-github",
        "colab_type": "text"
      },
      "source": [
        "<a href=\"https://colab.research.google.com/github/gajulalakshmilikhitha27/DEEP-LEARNING/blob/main/EXP_08_Classification_Parameter_Initialization.ipynb\" target=\"_parent\"><img src=\"https://colab.research.google.com/assets/colab-badge.svg\" alt=\"Open In Colab\"/></a>"
      ]
    },
    {
      "cell_type": "markdown",
      "metadata": {
        "id": "XL3lJkK2O83Q"
      },
      "source": [
        "**EXP-6 (Build a classification model using different parameter initialization techniques)**<br> by  Likhitha(222021601015)"
      ]
    },
    {
      "cell_type": "code",
      "metadata": {
        "id": "_GYmsmXmoToL"
      },
      "source": [
        "import tensorflow as tf                                   # deep learning library. Tensors are just multi-dimensional arrays"
      ],
      "execution_count": 1,
      "outputs": []
    },
    {
      "cell_type": "code",
      "metadata": {
        "colab": {
          "base_uri": "https://localhost:8080/"
        },
        "id": "zW1W8HH5qFsC",
        "outputId": "6fc5aea8-58cf-48f5-970b-caef44522522"
      },
      "source": [
        "mnist = tf.keras.datasets.mnist                           # mnist is a dataset of 28x28 images of handwritten digits and their labels\n",
        "(x_train, y_train),(x_test, y_test) = mnist.load_data()   # unpacks images to x_train/x_test and labels to y_train/y_test"
      ],
      "execution_count": 2,
      "outputs": [
        {
          "output_type": "stream",
          "text": [
            "Downloading data from https://storage.googleapis.com/tensorflow/tf-keras-datasets/mnist.npz\n",
            "11493376/11490434 [==============================] - 0s 0us/step\n"
          ],
          "name": "stdout"
        }
      ]
    },
    {
      "cell_type": "code",
      "metadata": {
        "id": "hC4CER2hqInQ"
      },
      "source": [
        "x_train = tf.keras.utils.normalize(x_train, axis=1)       # scales data between 0 and 1\n",
        "x_test = tf.keras.utils.normalize(x_test, axis=1)         # scales data between 0 and 1"
      ],
      "execution_count": 3,
      "outputs": []
    },
    {
      "cell_type": "code",
      "metadata": {
        "id": "khWUD_OyqLHZ"
      },
      "source": [
        "def model_create(n_layers,initializer):\n",
        "  model = tf.keras.models.Sequential()                      # a basic feed-forward model\n",
        "  model.add(tf.keras.layers.Flatten())                      # takes our 28x28 and makes it 1x784\n",
        "  \n",
        "  for i in range(n_layers):\n",
        "    model.add(tf.keras.layers.Dense(128, kernel_initializer=initializer, activation=tf.nn.relu))  # a simple fully-connected layer, 128 units, relu activation\n",
        "  \n",
        "  model.add(tf.keras.layers.Dense(10, kernel_initializer=initializer, activation=tf.nn.softmax))  # our output layer. 10 units for 10 classes. Softmax for probability distribution\n",
        "\n",
        "  model.compile(optimizer='adam',  # Good default optimizer to start with\n",
        "              loss='sparse_categorical_crossentropy',  # how will we calculate our \"error.\" Neural network aims to minimize loss.\n",
        "              metrics=['accuracy'])  # what to track\n",
        "\n",
        "  return model\n",
        "\n",
        "\n"
      ],
      "execution_count": 6,
      "outputs": []
    },
    {
      "cell_type": "code",
      "metadata": {
        "colab": {
          "base_uri": "https://localhost:8080/"
        },
        "id": "pr710CbhS8KZ",
        "outputId": "d4f2f7b5-d6e5-42dc-872c-d95a55d0a147"
      },
      "source": [
        "zeros_model = model_create(2,tf.keras.initializers.Zeros())\n",
        "zeros_history = zeros_model.fit(x_train, y_train, epochs=3)  # train the model"
      ],
      "execution_count": 7,
      "outputs": [
        {
          "output_type": "stream",
          "text": [
            "Epoch 1/3\n",
            "1875/1875 [==============================] - 5s 2ms/step - loss: 2.3015 - accuracy: 0.1122\n",
            "Epoch 2/3\n",
            "1875/1875 [==============================] - 5s 2ms/step - loss: 2.3014 - accuracy: 0.1124\n",
            "Epoch 3/3\n",
            "1875/1875 [==============================] - 5s 2ms/step - loss: 2.3013 - accuracy: 0.1124\n"
          ],
          "name": "stdout"
        }
      ]
    },
    {
      "cell_type": "code",
      "metadata": {
        "colab": {
          "base_uri": "https://localhost:8080/"
        },
        "id": "4ETgjLwaWd8U",
        "outputId": "716f7cf4-5088-400b-8421-4a5162b59651"
      },
      "source": [
        "he_model = model_create(2,tf.keras.initializers.HeNormal())\n",
        "he_history = he_model.fit(x_train, y_train, epochs=3)  # train the model"
      ],
      "execution_count": 8,
      "outputs": [
        {
          "output_type": "stream",
          "text": [
            "Epoch 1/3\n",
            "1875/1875 [==============================] - 5s 3ms/step - loss: 0.2507 - accuracy: 0.9261\n",
            "Epoch 2/3\n",
            "1875/1875 [==============================] - 5s 2ms/step - loss: 0.1043 - accuracy: 0.9682\n",
            "Epoch 3/3\n",
            "1875/1875 [==============================] - 5s 2ms/step - loss: 0.0696 - accuracy: 0.9779\n"
          ],
          "name": "stdout"
        }
      ]
    },
    {
      "cell_type": "code",
      "metadata": {
        "colab": {
          "base_uri": "https://localhost:8080/"
        },
        "id": "hgKd4Ws8XRRD",
        "outputId": "f28c0783-21e4-41ae-85c0-c7a25d5bab93"
      },
      "source": [
        "xavier_model = model_create(2,tf.keras.initializers.GlorotUniform())\n",
        "xavier_history = xavier_model.fit(x_train, y_train, epochs=3)"
      ],
      "execution_count": 9,
      "outputs": [
        {
          "output_type": "stream",
          "text": [
            "Epoch 1/3\n",
            "1875/1875 [==============================] - 5s 2ms/step - loss: 0.2603 - accuracy: 0.9245\n",
            "Epoch 2/3\n",
            "1875/1875 [==============================] - 5s 2ms/step - loss: 0.1064 - accuracy: 0.9683\n",
            "Epoch 3/3\n",
            "1875/1875 [==============================] - 5s 2ms/step - loss: 0.0718 - accuracy: 0.9776\n"
          ],
          "name": "stdout"
        }
      ]
    },
    {
      "cell_type": "code",
      "metadata": {
        "id": "U-DDaqIUS4ka"
      },
      "source": [
        "def print_layer(model):\n",
        " layers = model.layers\n",
        " for layer in layers:\n",
        "  print(\"Initial Weights\")\n",
        "  print(\"Layer:\",layer,end='\\n')\n",
        "  print(\"layer weights:  \",layer.weights,end='\\n')\n",
        "  #print(\"layer bias initializer:  \",layer.bias_initializer)"
      ],
      "execution_count": 10,
      "outputs": []
    },
    {
      "cell_type": "code",
      "metadata": {
        "id": "3S5xaySEqOPg"
      },
      "source": [
        "def evaluate_model(model):\n",
        "  val_loss, val_acc = model.evaluate(x_test, y_test)  # evaluate the out of sample data with model\n",
        "  print(val_loss)  # model's loss (error)\n",
        "  print(val_acc)  # model's accuracy"
      ],
      "execution_count": 11,
      "outputs": []
    },
    {
      "cell_type": "code",
      "metadata": {
        "id": "ZhRsZAwXwtka",
        "colab": {
          "base_uri": "https://localhost:8080/"
        },
        "outputId": "dcde027d-f2f8-4bac-cb2c-978d05bdbdc6"
      },
      "source": [
        "evaluate_model(he_model)"
      ],
      "execution_count": 12,
      "outputs": [
        {
          "output_type": "stream",
          "text": [
            "313/313 [==============================] - 1s 1ms/step - loss: 0.0904 - accuracy: 0.9731\n",
            "0.09035581350326538\n",
            "0.9731000065803528\n"
          ],
          "name": "stdout"
        }
      ]
    },
    {
      "cell_type": "code",
      "metadata": {
        "colab": {
          "base_uri": "https://localhost:8080/",
          "height": 518
        },
        "id": "02KLfwvxYBia",
        "outputId": "26b2a509-b12a-4331-9e10-e9b4053ab78f"
      },
      "source": [
        "#Plotting metric curves\n",
        "import matplotlib.pyplot as plt\n",
        "\n",
        "\n",
        "\n",
        "plt.figure(figsize=(16, 8))\n",
        "\n",
        "plt.subplot(1, 2, 1)\n",
        "plt.plot(zeros_history.history['accuracy'])\n",
        "plt.plot(he_history.history['accuracy'])\n",
        "plt.plot(xavier_history.history['accuracy'])\n",
        "plt.xlabel(\"Epochs\")\n",
        "plt.ylabel('accuracy')\n",
        "plt.legend(['zeros_accuracy', 'he_accuracy', 'xavier_accuracy'])\n",
        "plt.ylim(None, 1)\n",
        "\n",
        "plt.subplot(1, 2, 2)\n",
        "plt.plot(zeros_history.history['loss'])\n",
        "plt.plot(he_history.history['loss'])\n",
        "plt.plot(xavier_history.history['loss'])\n",
        "plt.xlabel(\"Epochs\")\n",
        "plt.ylabel('loss')\n",
        "plt.legend(['zeros_loss', 'he_loss', 'xavier_loss'])\n",
        "plt.ylim(0, None)"
      ],
      "execution_count": 13,
      "outputs": [
        {
          "output_type": "execute_result",
          "data": {
            "text/plain": [
              "(0.0, 2.413105557113886)"
            ]
          },
          "metadata": {
            "tags": []
          },
          "execution_count": 13
        },
        {
          "output_type": "display_data",
          "data": {
            "image/png": "[encoded data removed]",
            "text/plain": [
              "<Figure size 1152x576 with 2 Axes>"
            ]
          },
          "metadata": {
            "tags": [],
            "needs_background": "light"
          }
        }
      ]
    },
    {
      "cell_type": "code",
      "metadata": {
        "id": "FqM3yn_NY1p9"
      },
      "source": [
        ""
      ],
      "execution_count": null,
      "outputs": []
    }
  ]
}